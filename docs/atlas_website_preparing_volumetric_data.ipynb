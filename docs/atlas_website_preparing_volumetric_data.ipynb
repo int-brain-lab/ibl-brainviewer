{
 "cells": [
  {
   "cell_type": "markdown",
   "id": "158a64f1",
   "metadata": {},
   "source": [
    "# Preparing volumetric data for the atlas website"
   ]
  },
  {
   "cell_type": "markdown",
   "id": "1aeddaa3",
   "metadata": {},
   "source": [
    "To upload volumetric based data to the website you will need to provide\n",
    "- A `volume` array containing the volume to be displayed. The volume must be registered to the Allen CCF mouse atlas.\n",
    "- The names of the volume feature.\n",
    "\n",
    "Here we go into some steps that must be taken to upload your data to the website.\n",
    "\n",
    "In all the examples below we will show how to upload the features to both a local and a remote bucket. To understand the difference between the two, please refer to the getting started tutorial (TODO LINK)."
   ]
  },
  {
   "cell_type": "markdown",
   "id": "8a8d9d69",
   "metadata": {},
   "source": [
    "## Register your volume to the Allen CCF"
   ]
  },
  {
   "cell_type": "markdown",
   "id": "009c98be",
   "metadata": {},
   "source": [
    "The website currently only supports mouse volumes that have been registered and aligned to the Allen CCF mouse brain. A number of useful tools exist for this process\n",
    "\n",
    "These include,\n",
    "- [brainreg](https://brainglobe.info/index.html)\n",
    "- [brainregister](https://github.com/int-brain-lab/brainregister)\n",
    "- [HERBS](https://github.com/Whitlock-Group/HERBS/tree/main)\n"
   ]
  },
  {
   "cell_type": "markdown",
   "id": "1f222748",
   "metadata": {},
   "source": [
    "## Resample your volume to 25 um"
   ]
  },
  {
   "cell_type": "markdown",
   "id": "bbf4b1d6",
   "metadata": {},
   "source": [
    "The volume uploaded must have a resolution of 25 um in the ml, ap and dv dimensions. You can use the `simpleITK` python package to resample your data. This can be installed using `pip install SimpleITK`\n",
    "\n",
    "The example below shows how you would resample a 10 um resolution volume to 25 um resolution."
   ]
  },
  {
   "cell_type": "code",
   "execution_count": null,
   "id": "f7571c9b",
   "metadata": {},
   "outputs": [],
   "source": [
    "import SimpleITK as sitk\n",
    "from pathlib import Path\n",
    "\n",
    "# Path to original volume\n",
    "img_path = Path.home().joinpath('path_to_volume', 'volume.tif')\n",
    "save_img_path = img_path.parent.joinpath('volume_resampled.tif')\n",
    "\n",
    "# Read in tiff image using simpleITK\n",
    "reader = sitk.ImageFileReader()\n",
    "reader.SetImageIO(\"TIFFImageIO\")\n",
    "reader.SetFileName(str(img_path))\n",
    "img = reader.Execute()\n",
    "\n",
    "# Resample the image\n",
    "img_size = img.GetSize()\n",
    "out_spacing = [2.5, 2.5, 2.5]\n",
    "out_size = [int(img_size[0] / out_spacing[0]), int(img_size[1] / out_spacing[1]), int(img_size[2] / out_spacing[2])]\n",
    "resample = sitk.ResampleImageFilter()\n",
    "resample.SetOutputSpacing(out_spacing)\n",
    "resample.SetSize(out_size)\n",
    "resample.SetOutputDirection(img.GetDirection())\n",
    "resample.SetOutputOrigin(img.GetOrigin())\n",
    "resample.SetTransform(sitk.Transform())\n",
    "resample.SetDefaultPixelValue(img.GetPixelIDValue())\n",
    "resample.SetInterpolator(sitk.sitkBSpline)\n",
    "new_img = resample.Execute(img)\n",
    "\n",
    "# Save the image\n",
    "# Write file to disk\n",
    "writer = sitk.ImageFileWriter()\n",
    "writer.SetImageIO(\"TIFFImageIO\")\n",
    "writer.SetFileName(str(save_img_path))\n",
    "writer.Execute(new_img)"
   ]
  },
  {
   "cell_type": "markdown",
   "id": "5ca93483",
   "metadata": {},
   "source": [
    "## Adjust the axis of your volume"
   ]
  },
  {
   "cell_type": "markdown",
   "id": "6d7ed466",
   "metadata": {},
   "source": [
    "The orientation of the volume should be [ap, dv, ml]"
   ]
  }
 ],
 "metadata": {
  "kernelspec": {
   "display_name": "Python 3 (ipykernel)",
   "language": "python",
   "name": "python3"
  },
  "language_info": {
   "codemirror_mode": {
    "name": "ipython",
    "version": 3
   },
   "file_extension": ".py",
   "mimetype": "text/x-python",
   "name": "python",
   "nbconvert_exporter": "python",
   "pygments_lexer": "ipython3",
   "version": "3.9.18"
  }
 },
 "nbformat": 4,
 "nbformat_minor": 5
}
